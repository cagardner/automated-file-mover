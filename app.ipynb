{
 "cells": [
  {
   "cell_type": "markdown",
   "metadata": {},
   "source": [
    "# File Automation"
   ]
  },
  {
   "cell_type": "markdown",
   "metadata": {},
   "source": [
    "### LIBRARIES and install methods"
   ]
  },
  {
   "cell_type": "code",
   "execution_count": null,
   "metadata": {
    "vscode": {
     "languageId": "plaintext"
    }
   },
   "outputs": [],
   "source": [
    "!pip install watchdog"
   ]
  },
  {
   "cell_type": "code",
   "execution_count": null,
   "metadata": {},
   "outputs": [],
   "source": [
    "from watchdog.observers import Observer\n",
    "from watchdog.events import FileSystemEventHandler\n",
    "import os\n",
    "import time"
   ]
  },
  {
   "cell_type": "code",
   "execution_count": null,
   "metadata": {},
   "outputs": [],
   "source": [
    "DOWNLOADS_FOLDER = os.path.expanduser('~/Downloads')  # Path to the Downloads folder on your PC"
   ]
  },
  {
   "cell_type": "markdown",
   "metadata": {},
   "source": [
    "### CLASS MyHandler:\n",
    "- This code defines a class named `MyHandler` which inherits from `FileSystemEventHandler` to handle file system events.\n",
    "\n",
    "- **`on_created` method**: Activated when a new file is created. It checks to make sure the event is for a file (not a directory). If it's a file event, it calls the `organize_files` method with the path of the newly created file.\n",
    "\n",
    "- **`organize_files` method**: Organizes individual files into appropriate sub-folders based on their file extensions.\n",
    "  - It first determines the file's extension and converts it to uppercase (e.g., `.pdf` becomes `PDF`).\n",
    "  - If a file doesn't have an extension, it assigns it to a default folder named `OTHERS`.\n",
    "  - It checks if a sub-folder named after the file type (or `OTHERS`) exists in the `DOWNLOADS_FOLDER`. If not, it creates one.\n",
    "  - Finally, it moves the file into the corresponding sub-folder.\n",
    "\n",
    "In summary, the code watches for new files being added to a directory. When a new file appears, it organizes that file into a sub-folder based on its file type. If the file doesn't have a recognizable type, it places it in a folder named `OTHERS`."
   ]
  },
  {
   "cell_type": "code",
   "execution_count": 2,
   "metadata": {
    "scrolled": true
   },
   "outputs": [],
   "source": [
    "class MyHandler(FileSystemEventHandler):\n",
    "\n",
    "    def on_created(self, event):\n",
    "        if not event.is_directory:  # Ensure it's a file event\n",
    "            self.organize_files(event.src_path)\n",
    "\n",
    "    def organize_files(self, file_path):\n",
    "        # Determine file type (using file extension)\n",
    "        _, file_extension = os.path.splitext(file_path)\n",
    "        file_extension = file_extension[1:].upper()  # Convert to uppercase\n",
    "        \n",
    "        # Define sub-folder based on file type, e.g., .PDF -> PDF, .jpg -> JPG\n",
    "        if not file_extension:\n",
    "            folder_name = 'OTHERS'\n",
    "        else:\n",
    "            folder_name = file_extension\n",
    "\n",
    "        # Create sub-folder in Downloads if it doesn't exist\n",
    "        destination_folder = os.path.join(DOWNLOADS_FOLDER, folder_name)\n",
    "        if not os.path.exists(destination_folder):\n",
    "            os.makedirs(destination_folder)\n",
    "\n",
    "        # Move file into the corresponding sub-folder\n",
    "        dest_path = os.path.join(destination_folder, os.path.basename(file_path))\n",
    "        os.rename(file_path, dest_path)"
   ]
  },
  {
   "cell_type": "markdown",
   "metadata": {},
   "source": [
    "1. An event handler, named `MyHandler`, is initialized. This handler contains the logic to process certain file events, specifically the creation of new files.\n",
    "2. An observer is set up and configured to watch the \"Downloads\" folder. It is set to only monitor the top-level directory and not any sub-directories within it.\n",
    "3. The observer is then started to begin actively monitoring for changes.\n",
    "4. Before actively monitoring for new files, the code first organizes any existing files in the \"Downloads\" folder. It does this by looping through each file in the directory, checking if it is indeed a file (and not a sub-directory), and then invoking the `organize_files` method to move it to an appropriate sub-folder based on its type (e.g., PDF files go to a \"PDF\" sub-folder).\n",
    "5. After organizing the existing files, the code enters an infinite loop where it waits and lets the observer do its job. Every 10 seconds, it pauses using `time.sleep(10)`. This loop continues until the user interrupts the script (e.g., by pressing `Ctrl+C`).\n",
    "6. If the user interrupts the script, the observer is stopped to cease its monitoring activity.\n",
    "7. Finally, `observer.join()` ensures that the observer thread is properly terminated before the script exits."
   ]
  },
  {
   "cell_type": "code",
   "execution_count": null,
   "metadata": {},
   "outputs": [],
   "source": [
    "# Initialize the observer\n",
    "event_handler = MyHandler()\n",
    "observer = Observer()\n",
    "observer.schedule(event_handler, DOWNLOADS_FOLDER, recursive=False)  # Only monitor the top-level directory, not sub-directories\n",
    "observer.start()\n",
    "\n",
    "try:\n",
    "    # Organize existing files in the Downloads folder before starting to monitor\n",
    "    for filename in os.listdir(DOWNLOADS_FOLDER):\n",
    "        file_path = os.path.join(DOWNLOADS_FOLDER, filename)\n",
    "        if os.path.isfile(file_path):\n",
    "            event_handler.organize_files(file_path)\n",
    "    \n",
    "    while True:\n",
    "        time.sleep(10)\n",
    "except KeyboardInterrupt:\n",
    "    observer.stop()\n",
    "observer.join()"
   ]
  },
  {
   "cell_type": "code",
   "execution_count": null,
   "metadata": {},
   "outputs": [],
   "source": []
  }
 ],
 "metadata": {
  "kernelspec": {
   "display_name": "Python 3 (ipykernel)",
   "language": "python",
   "name": "python3"
  },
  "language_info": {
   "codemirror_mode": {
    "name": "ipython",
    "version": 3
   },
   "file_extension": ".py",
   "mimetype": "text/x-python",
   "name": "python",
   "nbconvert_exporter": "python",
   "pygments_lexer": "ipython3",
   "version": "3.11.4"
  }
 },
 "nbformat": 4,
 "nbformat_minor": 2
}
